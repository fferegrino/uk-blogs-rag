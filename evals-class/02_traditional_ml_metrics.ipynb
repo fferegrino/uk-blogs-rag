{
 "cells": [
  {
   "cell_type": "markdown",
   "metadata": {},
   "source": [
    "# Can we use traditional ML metrics to evaluate our model?\n",
    "\n",
    "Under certain circumstances, such as when we have a labelled dataset and the LLM is used as a classifier, we can use traditional ML metrics to evaluate our model.\n",
    "\n",
    "Imagine we have a dataset with articles and we want to classify them as about *__AI__*, *__music__*, *__food__*, *__education__*, or *__unknown__*."
   ]
  },
  {
   "cell_type": "code",
   "execution_count": 1,
   "metadata": {},
   "outputs": [],
   "source": [
    "from common import get_response\n",
    "import json"
   ]
  },
  {
   "cell_type": "code",
   "execution_count": null,
   "metadata": {},
   "outputs": [],
   "source": [
    "with open(\"test_classification_cases.json\", \"r\") as f:\n",
    "    test_cases = json.load(f)\n",
    "\n",
    "test_cases[\"tests\"][2]"
   ]
  },
  {
   "cell_type": "code",
   "execution_count": null,
   "metadata": {},
   "outputs": [],
   "source": [
    "expected_categories = [test_case[\"category\"] for test_case in test_cases[\"tests\"]]\n",
    "expected_categories"
   ]
  },
  {
   "cell_type": "code",
   "execution_count": 4,
   "metadata": {},
   "outputs": [],
   "source": [
    "instruction = \"\"\"Classify the following article into one of the following categories:\n",
    " - AI\n",
    " - music\n",
    " - food\n",
    " - education\n",
    "\n",
    "If the article is not about any of the categories above, classify it as \"unknown\".\n",
    "\n",
    "Provide no explanation, or any other text, just the category.\n",
    "\"\"\""
   ]
  },
  {
   "cell_type": "code",
   "execution_count": 5,
   "metadata": {},
   "outputs": [],
   "source": [
    "classified_categories = []\n",
    "\n",
    "for test_case in test_cases[\"tests\"]:\n",
    "    article = test_case[\"article\"]\n",
    "    full_prompt = f\"{instruction}\\n\\n{article}\"\n",
    "    response = get_response(full_prompt)\n",
    "    classified_categories.append(response)\n"
   ]
  },
  {
   "cell_type": "code",
   "execution_count": null,
   "metadata": {},
   "outputs": [],
   "source": [
    "classified_categories"
   ]
  },
  {
   "cell_type": "markdown",
   "metadata": {},
   "source": [
    "## Con estos resultados, podemos calcular accuracy."
   ]
  },
  {
   "cell_type": "code",
   "execution_count": null,
   "metadata": {},
   "outputs": [],
   "source": [
    "def accuracy_score(y_true: list[str], y_pred: list[str]) -> float:\n",
    "    return sum(1 for t, p in zip(y_true, y_pred) if t == p) / len(y_true)\n",
    "\n",
    "accuracy_score(expected_categories, classified_categories)\n"
   ]
  }
 ],
 "metadata": {
  "kernelspec": {
   "display_name": ".venv",
   "language": "python",
   "name": "python3"
  },
  "language_info": {
   "codemirror_mode": {
    "name": "ipython",
    "version": 3
   },
   "file_extension": ".py",
   "mimetype": "text/x-python",
   "name": "python",
   "nbconvert_exporter": "python",
   "pygments_lexer": "ipython3",
   "version": "3.10.12"
  }
 },
 "nbformat": 4,
 "nbformat_minor": 2
}
